{
 "cells": [
  {
   "cell_type": "code",
   "execution_count": null,
   "metadata": {
    "colab": {
     "base_uri": "https://localhost:8080/"
    },
    "id": "2U-N_f_M68OW",
    "outputId": "4a05b551-ed89-48f0-ab94-f7ead864e516"
   },
   "outputs": [],
   "source": [
    "!pip install riotwatcher\n",
    "!pip install playwright\n",
    "!pip install --upgrade requests"
   ]
  },
  {
   "cell_type": "code",
   "execution_count": null,
   "metadata": {
    "id": "b8XSjZPq68Oa"
   },
   "outputs": [],
   "source": [
    "import os\n",
    "import time\n",
    "import re\n",
    "from datetime import datetime, timedelta\n",
    "import playwright\n",
    "from bs4 import BeautifulSoup\n",
    "from playwright.async_api import async_playwright, TimeoutError as PlaywrightTimeout\n",
    "from riotwatcher import *\n",
    "import pandas as pd\n",
    "import numpy as np\n",
    "import requests\n",
    "import logging"
   ]
  },
  {
   "cell_type": "code",
   "execution_count": null,
   "metadata": {
    "id": "0YDSrRTD92CO"
   },
   "outputs": [],
   "source": [
    "file_path='' #insert the file path where 'League of Legends_final_RANKED_SOLO_matches.xlsx' file is\n",
    "\n",
    "df = pd.read_excel(file_path, sheet_name='Sheet1')"
   ]
  },
  {
   "cell_type": "code",
   "execution_count": null,
   "metadata": {
    "colab": {
     "base_uri": "https://localhost:8080/"
    },
    "id": "sGEKoRYAxbCL",
    "outputId": "e19b4d0c-7d96-41bf-f61e-6cf95819b2f8"
   },
   "outputs": [],
   "source": [
    "#from google.colab import drive\n",
    "#drive.mount('/content/drive')"
   ]
  },
  {
   "cell_type": "code",
   "execution_count": null,
   "metadata": {
    "id": "jDGlsfkdyEfT"
   },
   "outputs": [],
   "source": [
    "#file_path = '/content/drive/My Drive/Colab Notebooks/League of Legends_final_RANKED_SOLO_matches.xlsx'\n",
    "#df = pd.read_excel(file_path)"
   ]
  },
  {
   "cell_type": "code",
   "execution_count": null,
   "metadata": {
    "id": "aqM-387768Oc"
   },
   "outputs": [],
   "source": [
    "# Riot API Key (need to have an account in https://developer.riotgames.com/ and then check the API key)\n",
    "api_key = 'XXXXXXXX' # insert API key\n",
    "lol_watcher = LolWatcher(api_key)"
   ]
  },
  {
   "cell_type": "code",
   "execution_count": null,
   "metadata": {
    "id": "GuDj6ECe68Oc"
   },
   "outputs": [],
   "source": [
    "# Function to get the win-loss ratio for a given row (only from 2022 until today, no 2021 detailed matches info)\n",
    "def get_win_loss_ratios(row):\n",
    "    try:\n",
    "        # Define the years for which you want to get win-loss ratios\n",
    "        years = [2022, 2023]\n",
    "\n",
    "        # Initialize dictionaries to store win and loss counts for each year\n",
    "        win_counts = {str(year): 0 for year in years}\n",
    "        loss_counts = {str(year): 0 for year in years}\n",
    "\n",
    "        for year in years:\n",
    "            starttime = int(datetime(year, 1, 1).timestamp())\n",
    "            endtime = int(datetime(year, 12, 31, 23, 59, 59).timestamp())\n",
    "\n",
    "            # Initialize variables\n",
    "            wins = 0\n",
    "            losses = 0\n",
    "            start_index = 0\n",
    "            count_per_request = 100\n",
    "\n",
    "            while True:\n",
    "                # Set parameters to retrieve ranked matches starting from index 'start_index' and up to 'count_per_request' matches\n",
    "                matchlist = lol_watcher.match.matchlist_by_puuid(\n",
    "                    row['REGION'],\n",
    "                    row['PUUID'],\n",
    "                    queue=420,\n",
    "                    start_time=starttime,\n",
    "                    end_time=endtime,\n",
    "                    start=start_index,\n",
    "                    count=count_per_request\n",
    "                )\n",
    "\n",
    "                # Loop through matches and participants to count wins and losses\n",
    "                for match_id in matchlist:\n",
    "                    try:\n",
    "                        match_details = lol_watcher.match.by_id(row['REGION'], match_id)\n",
    "\n",
    "                        for participant_identity in match_details['info']['participants']:\n",
    "                            if participant_identity['puuid'] == row['PUUID']:\n",
    "                                win = participant_identity['win']\n",
    "\n",
    "                                if win is not None:\n",
    "                                    if win:\n",
    "                                        wins += 1\n",
    "                                    else:\n",
    "                                        losses += 1\n",
    "                    except Exception as match_error:\n",
    "                        print(f\"Error fetching match details for match ID {match_id}: {match_error}\")\n",
    "\n",
    "                # Break the loop if there are fewer than 'count_per_request' matches returned\n",
    "                if len(matchlist) < count_per_request:\n",
    "                    break\n",
    "\n",
    "                # Increment start_index for the next batch\n",
    "                start_index += count_per_request\n",
    "\n",
    "            # Update win and loss counts for the current year\n",
    "            win_counts[str(year)] = wins\n",
    "            loss_counts[str(year)] = losses\n",
    "\n",
    "        # Calculate win-loss ratios for each year\n",
    "        ratios = {year: wins / (wins + losses) if (wins + losses) > 0 else 0 for year, wins, losses in zip(years, win_counts.values(), loss_counts.values())}\n",
    "\n",
    "        # Print or use the win-loss ratios for each year\n",
    "        print(f\"Row {row.name + 1}: {row['NICKNAME']}, Total Rows: {len(df_new)}, Win-Loss Ratios: {ratios}\")\n",
    "\n",
    "        # Return a pandas Series with the win-loss ratios for each year\n",
    "        return pd.Series(ratios)\n",
    "\n",
    "    except Exception as e:\n",
    "        print(f\"Error fetching matchlist for {row['NICKNAME']}: {e}\")\n",
    "        return pd.Series({str(year): 0 for year in years})"
   ]
  },
  {
   "cell_type": "code",
   "execution_count": null,
   "metadata": {
    "id": "gjBPuNjBqWYM"
   },
   "outputs": [],
   "source": [
    "def get_avg_game_duration(row):\n",
    "    try:\n",
    "        # Define the years for which you want to get match durations\n",
    "        years = [2022, 2023]\n",
    "\n",
    "        # Initialize dictionaries to store total duration and game counts for each year\n",
    "        total_durations = {str(year): 0 for year in years}\n",
    "        game_counts = {str(year): 0 for year in years}\n",
    "\n",
    "        for year in years:\n",
    "            starttime = int(datetime(year, 1, 1).timestamp())\n",
    "            endtime = int(datetime(year, 12, 31, 23, 59, 59).timestamp())\n",
    "\n",
    "            # Initialize variables\n",
    "            total_duration = 0\n",
    "            game_count = 0\n",
    "            start_index = 0\n",
    "            count_per_request = 100\n",
    "\n",
    "            while True:\n",
    "                # Set parameters to retrieve ranked matches starting from index 'start_index' and up to 'count_per_request' matches\n",
    "                matchlist = lol_watcher.match.matchlist_by_puuid(\n",
    "                    row['REGION'],\n",
    "                    row['PUUID'],\n",
    "                    queue=420,  # Ranked Solo/Duo queue\n",
    "                    start_time=starttime,\n",
    "                    end_time=endtime,\n",
    "                    start=start_index,\n",
    "                    count=count_per_request\n",
    "                )\n",
    "\n",
    "                # Loop through matches and accumulate the duration time and count games\n",
    "                for match_id in matchlist:\n",
    "                    try:\n",
    "                        match_details = lol_watcher.match.by_id(row['REGION'], match_id)\n",
    "\n",
    "                        # Get the duration of the match in seconds\n",
    "                        game_duration = match_details['info']['gameDuration']\n",
    "\n",
    "                        # Check if game duration is not NaN and not None\n",
    "                        if not pd.isnull(game_duration) and game_duration is not None:\n",
    "                            total_duration += game_duration\n",
    "                            game_count += 1\n",
    "\n",
    "                            # Print the game duration for each nickname\n",
    "                            #print(f\"{row['NICKNAME']} - {game_duration} seconds in {game_count} games\")\n",
    "\n",
    "                    except Exception as match_error:\n",
    "                        print(f\"Error fetching match details for match ID {match_id}: {match_error}\")\n",
    "\n",
    "                # Break the loop if there are fewer than 'count_per_request' matches returned\n",
    "                if len(matchlist) < count_per_request:\n",
    "                    break\n",
    "\n",
    "                # Increment start_index for the next batch\n",
    "                start_index += count_per_request\n",
    "\n",
    "            # Update the total duration and game count for the current year\n",
    "            total_durations[str(year)] = total_duration\n",
    "            game_counts[str(year)] = game_count\n",
    "\n",
    "        # Calculate average game durations for each year, handling NaN values\n",
    "        print({year: total_durations[str(year)] / game_counts[str(year)] if game_counts[str(year)] > 0 else 0 for year in years})\n",
    "        avg_durations = {year: total_durations[str(year)] / game_counts[str(year)] if game_counts[str(year)] > 0 else 0 for year in years}\n",
    "        print(f\"{row['NICKNAME']} - {avg_durations[str(year)]} seconds in {game_counts[str(year)]}\")\n",
    "\n",
    "        # Return a pandas Series with the average durations for each year\n",
    "        return pd.Series({\n",
    "            'avg_duration_2022': avg_durations[str(2022)],\n",
    "            'avg_duration_2023': avg_durations[str(2023)]\n",
    "        })\n",
    "\n",
    "    except Exception as e:\n",
    "        return pd.Series({\n",
    "            'avg_duration_2022': total_durations[str(2022)] / game_counts[str(2022)] if game_counts[str(2022)] > 0 else 0,\n",
    "            'avg_duration_2023': total_durations[str(2023)] / game_counts[str(2023)] if game_counts[str(2023)] > 0 else 0\n",
    "        })"
   ]
  },
  {
   "cell_type": "code",
   "execution_count": null,
   "metadata": {
    "id": "p54_GVcK68Od"
   },
   "outputs": [],
   "source": [
    "# Function to get the total match count for a given player from 2021 to 2023 of other types of games:\n",
    "def get_match_counts(row):\n",
    "    try:\n",
    "        years = [2021, 2022, 2023]\n",
    "        queues = [400, 430, 440, 450] #queue types in 'https://static.developer.riotgames.com/docs/lol/queues.json'\n",
    "        match_counts = {str(year): {str(queue): 0 for queue in queues} for year in years}\n",
    "\n",
    "        def fetch_match_list(year, queue, start_index, count_per_request):\n",
    "            starttime = int(datetime(year, 1, 1).timestamp())\n",
    "            endtime = int(datetime(year, 12, 31, 23, 59, 59).timestamp())\n",
    "            total_matches = 0\n",
    "            start_index = 0\n",
    "            count_per_request = 100\n",
    "            while True:\n",
    "                matchlist = lol_watcher.match.matchlist_by_puuid(\n",
    "                    row['REGION'],\n",
    "                    row['PUUID'],\n",
    "                    queue=queue,\n",
    "                    start_time=starttime,\n",
    "                    end_time=endtime,\n",
    "                    start=start_index,\n",
    "                    count=count_per_request\n",
    "                )\n",
    "                total_matches += len(matchlist)\n",
    "                if len(matchlist) < count_per_request:\n",
    "                    break\n",
    "                start_index += count_per_request\n",
    "            return total_matches\n",
    "\n",
    "        for year in years:\n",
    "            for queue in queues:\n",
    "                match_counts[str(year)][str(queue)] = fetch_match_list(year, queue, 0, 100)\n",
    "\n",
    "        match_counts_flat = {f'{year}_Queue_{queue}': count for year, counts in match_counts.items() for queue, count in counts.items()}\n",
    "\n",
    "        print(f\"Row {row.name + 1}: {row['NICKNAME']}, Total Rows: {len(df_new)}, Match Counts: {match_counts_flat}\")\n",
    "        return pd.Series(match_counts_flat)\n",
    "\n",
    "    except Exception as e:\n",
    "        print(f\"Error fetching matchlist for {row['NICKNAME']}: {e}\")\n",
    "        return pd.Series({f\"{year}_Queue_{queue}\": 0 for year in years for queue in queues})"
   ]
  },
  {
   "cell_type": "code",
   "execution_count": null,
   "metadata": {
    "id": "jY26OunW7uI8"
   },
   "outputs": [],
   "source": [
    "def get_most_played_champion(row):\n",
    "    try:\n",
    "        years = [2022, 2023]\n",
    "        champion_counts = {str(year): {} for year in years}\n",
    "\n",
    "        for year in years:\n",
    "            starttime = int(datetime(year, 1, 1).timestamp())\n",
    "            endtime = int(datetime(year, 12, 31, 23, 59, 59).timestamp())\n",
    "\n",
    "            start_index = 0\n",
    "            count_per_request = 100\n",
    "\n",
    "            while True:\n",
    "                matchlist = lol_watcher.match.matchlist_by_puuid(\n",
    "                    row['REGION'],\n",
    "                    row['PUUID'],\n",
    "                    queue=420,\n",
    "                    start_time=starttime,\n",
    "                    end_time=endtime,\n",
    "                    start=start_index,\n",
    "                    count=count_per_request\n",
    "                )\n",
    "\n",
    "                for match_id in matchlist:\n",
    "                    try:\n",
    "                        match_details = lol_watcher.match.by_id(row['REGION'], match_id)\n",
    "\n",
    "                        for participant in match_details['info']['participants']:\n",
    "                            if participant['puuid'] == row['PUUID']:\n",
    "                                champion_name = participant['championName']\n",
    "                                champion_counts[str(year)][champion_name] = champion_counts[str(year)].get(champion_name, 0) + 1\n",
    "                                break\n",
    "\n",
    "                    except Exception as match_error:\n",
    "                        print(f\"Error fetching match details for match ID {match_id}: {match_error}\")\n",
    "\n",
    "                if len(matchlist) < count_per_request:\n",
    "                    break\n",
    "\n",
    "                start_index += count_per_request\n",
    "\n",
    "        most_played_champions = {\n",
    "            str(year): max(champion_counts[str(year)], key=champion_counts[str(year)].get, default=None) for year in years\n",
    "        }\n",
    "\n",
    "        return pd.Series({\n",
    "            'most_played_champ_2022': most_played_champions.get(\"2022\", None),\n",
    "            'most_played_champ_2023': most_played_champions.get(\"2023\", None)\n",
    "        })\n",
    "\n",
    "    except Exception as e:\n",
    "        return pd.Series({\n",
    "            'most_played_champ_2022': None,\n",
    "            'most_played_champ_2023': None\n",
    "        })"
   ]
  },
  {
   "cell_type": "code",
   "execution_count": null,
   "metadata": {
    "id": "Kr2WuWPF7xdh"
   },
   "outputs": [],
   "source": [
    "def get_most_played_position(row):\n",
    "    try:\n",
    "        years = [2022, 2023]\n",
    "        position_counts = {str(year): {} for year in years}\n",
    "        most_played_champions = {\n",
    "            \"2022\": row.get('most_played_champ_2022'),\n",
    "            \"2023\": row.get('most_played_champ_2023'),\n",
    "        }\n",
    "\n",
    "        for year in years:\n",
    "            if not most_played_champions[str(year)]:\n",
    "                continue  # Skip if there's no most played champion\n",
    "\n",
    "            starttime = int(datetime(year, 1, 1).timestamp())\n",
    "            endtime = int(datetime(year, 12, 31, 23, 59, 59).timestamp())\n",
    "\n",
    "            start_index = 0\n",
    "            count_per_request = 100\n",
    "\n",
    "            while True:\n",
    "                matchlist = lol_watcher.match.matchlist_by_puuid(\n",
    "                    row['REGION'],\n",
    "                    row['PUUID'],\n",
    "                    queue=420,\n",
    "                    start_time=starttime,\n",
    "                    end_time=endtime,\n",
    "                    start=start_index,\n",
    "                    count=count_per_request\n",
    "                )\n",
    "\n",
    "                for match_id in matchlist:\n",
    "                    try:\n",
    "                        match_details = lol_watcher.match.by_id(row['REGION'], match_id)\n",
    "\n",
    "                        for participant in match_details['info']['participants']:\n",
    "                            if participant['puuid'] == row['PUUID'] and participant['championName'] == most_played_champions[str(year)]:\n",
    "                                role = participant['teamPosition'].lower()\n",
    "                                if role in ['top', 'jungle', 'middle', 'bottom', 'utility']:\n",
    "                                    role = 'mid' if role == 'middle' else ('adc' if role == 'bottom' else role)\n",
    "                                    position_counts[str(year)][role] = position_counts[str(year)].get(role, 0) + 1\n",
    "                                break\n",
    "\n",
    "                    except Exception as match_error:\n",
    "                        print(f\"Error fetching match details for match ID {match_id}: {match_error}\")\n",
    "\n",
    "                if len(matchlist) < count_per_request:\n",
    "                    break\n",
    "\n",
    "                start_index += count_per_request\n",
    "\n",
    "        most_played_positions = {\n",
    "            str(year): max(position_counts[str(year)], key=position_counts[str(year)].get, default=None) for year in years\n",
    "        }\n",
    "\n",
    "        return pd.Series({\n",
    "            'most_played_position_2022': most_played_positions.get(\"2022\", None),\n",
    "            'most_played_position_2023': most_played_positions.get(\"2023\", None)\n",
    "        })\n",
    "\n",
    "    except Exception as e:\n",
    "        return pd.Series({\n",
    "            'most_played_position_2022': None,\n",
    "            'most_played_position_2023': None\n",
    "        })"
   ]
  },
  {
   "cell_type": "code",
   "execution_count": null,
   "metadata": {
    "id": "42lDqK5cNo2W"
   },
   "outputs": [],
   "source": [
    "def calculate_frustration_kpi(row):\n",
    "    try:\n",
    "        year = 2023  # Only calculating for 2023\n",
    "        frustration_scores = []  # Track frustration scores per match\n",
    "        total_games = 0  # Track number of games played\n",
    "\n",
    "        starttime = int(datetime(year, 1, 1).timestamp())\n",
    "        endtime = int(datetime(year, 12, 31, 23, 59, 59).timestamp())\n",
    "        start_index = 0\n",
    "        count_per_request = 100\n",
    "\n",
    "        while True:\n",
    "            matchlist = lol_watcher.match.matchlist_by_puuid(\n",
    "                row['REGION'], row['PUUID'], queue=420,\n",
    "                start_time=starttime, end_time=endtime,\n",
    "                start=start_index, count=count_per_request\n",
    "            )\n",
    "\n",
    "            for match_id in matchlist:\n",
    "                try:\n",
    "                    match_details = lol_watcher.match.by_id(row['REGION'], match_id)\n",
    "                    match_frustration = 0\n",
    "\n",
    "                    for participant in match_details['info']['participants']:\n",
    "                        if participant['puuid'] == row['PUUID']:\n",
    "                            # Game result (Loss = +1 point)\n",
    "                            if not participant['win']:\n",
    "                                match_frustration += 1\n",
    "\n",
    "                            # KDA < 1 & Deaths > 10 (+2 points)\n",
    "                            kda = (participant['kills'] + participant['assists']) / max(1, participant['deaths'])\n",
    "                            if kda < 1 and participant['deaths'] > 10:\n",
    "                                match_frustration += 2\n",
    "\n",
    "                            # Early surrender (<20 min) (+1 point)\n",
    "                            if 'gameEndTimestamp' in match_details['info'] and 'gameStartTimestamp' in match_details['info']:\n",
    "                                game_duration = (match_details['info']['gameEndTimestamp'] - match_details['info']['gameStartTimestamp']) / 1000\n",
    "                                if game_duration < 1200:\n",
    "                                    match_frustration += 1\n",
    "\n",
    "                            # AFK / Disconnect (+2 points) ## Might be more times internet issues related, not frustration...\n",
    "                            #if participant.get('gameEndedInEarlySurrender', False) or participant.get('detached', False):\n",
    "                                #match_frustration += 2\n",
    "\n",
    "                            # Deaths in short time (<2 min) (+1 point)\n",
    "                            death_timestamps = [\n",
    "                                event['timestamp'] for event in match_details['info'].get('events', [])\n",
    "                                if event['type'] == 'CHAMPION_KILL' and event['victimId'] == participant['participantId']\n",
    "                            ]\n",
    "                            for i in range(1, len(death_timestamps)):\n",
    "                                if (death_timestamps[i] - death_timestamps[i-1]) / 1000 < 120:\n",
    "                                    match_frustration += 1\n",
    "                                    break\n",
    "\n",
    "                            # Panic Flashing (+1 point if 3+ useless Flashes)\n",
    "                            flash_uses = 0\n",
    "                            useless_flashes = 0\n",
    "                            for event in match_details['info'].get('events', []):\n",
    "                                if event['type'] == 'ITEM_PURCHASED' and event['participantId'] == participant['participantId'] and event['itemId'] == 4:  # Flash ID = 4\n",
    "                                    flash_uses += 1\n",
    "                                    # Check if kill/assist happened within 5 sec of Flash\n",
    "                                    flash_time = event['timestamp']\n",
    "                                    kill_or_assist = any(\n",
    "                                        e for e in match_details['info'].get('events', [])\n",
    "                                        if e['type'] == 'CHAMPION_KILL' and (\n",
    "                                            e.get('killerId') == participant['participantId'] or\n",
    "                                            participant['participantId'] in e.get('assistingParticipantIds', [])\n",
    "                                        ) and 0 <= (e['timestamp'] - flash_time) / 1000 <= 5\n",
    "                                    )\n",
    "                                    if not kill_or_assist:\n",
    "                                        useless_flashes += 1\n",
    "                            if useless_flashes >= 3:\n",
    "                                match_frustration += 1\n",
    "\n",
    "                        # Check if any other participant has KDA < 1 & Deaths > 10 (+2 points)\n",
    "                        if participant['puuid'] != row['PUUID']:\n",
    "                            kda_other = (participant['kills'] + participant['assists']) / max(1, participant['deaths'])\n",
    "                            if kda_other < 1 and participant['deaths'] > 10:\n",
    "                                match_frustration += 2\n",
    "\n",
    "                    frustration_scores.append(match_frustration)  # Add match frustration score to the list\n",
    "                    total_games += 1  # Increment the total games for 2023\n",
    "                except Exception as match_error:\n",
    "                    print(f\"Error fetching match details for match ID {match_id}: {match_error}\")\n",
    "\n",
    "            if len(matchlist) < count_per_request:\n",
    "                break\n",
    "            start_index += count_per_request\n",
    "\n",
    "        # Calculate stats for 2023\n",
    "        if frustration_scores:  # Check if there are any scores\n",
    "            avg_kpi = sum(frustration_scores) / len(frustration_scores)\n",
    "            min_kpi = min(frustration_scores)\n",
    "            max_kpi = max(frustration_scores)\n",
    "            frustration_pct = (sum(1 for score in frustration_scores if score >= 3) / len(frustration_scores)) * 100\n",
    "            frustration_count = sum(1 for score in frustration_scores if score >= 3)\n",
    "            ngames = len(frustration_scores)\n",
    "        else:\n",
    "            avg_kpi, min_kpi, max_kpi, frustration_pct, frustration_count, ngames = 0, 0, 0, 0, 0, 0\n",
    "\n",
    "        # Return values as a flattened pd.Series\n",
    "        return pd.Series({\n",
    "            '2023_avg_kpi': avg_kpi,\n",
    "            '2023_min_kpi': min_kpi,\n",
    "            '2023_max_kpi': max_kpi,\n",
    "            '2023_frustration_pct': frustration_pct, # % of ranked games with frustration KPI >=3\n",
    "            '2023_frustration_ngames': frustration_count, # total number of ranked games with frustration KPI >=3\n",
    "            '2023_ngames': ngames #total number of ranked games for the analysis\n",
    "        })\n",
    "\n",
    "    except Exception as e:\n",
    "        print(f\"Error calculating frustration KPI for {row['NICKNAME']}: {e}\")\n",
    "        return pd.Series({\n",
    "            '2023_avg_kpi': 0,\n",
    "            '2023_min_kpi': 0,\n",
    "            '2023_max_kpi': 0,\n",
    "            '2023_frustration_pct': 0,\n",
    "            '2023_frustration_ngames': 0,\n",
    "            '2023_ngames': 0\n",
    "        })\n"
   ]
  },
  {
   "cell_type": "code",
   "execution_count": null,
   "metadata": {
    "id": "lX3w3-0A68Oe"
   },
   "outputs": [],
   "source": [
    "df_new = df.copy()\n",
    "#df_new['REGION'] = df_new['REGION'].replace({'LA1': 'LAN', 'LA2': 'LAS'}) #POTSER ÉS NECESSARI, ja ho comentem"
   ]
  },
  {
   "cell_type": "code",
   "execution_count": null,
   "metadata": {
    "id": "kfs6UWRYyfNU"
   },
   "outputs": [],
   "source": [
    "#df_new = df[1:7].copy()\n",
    "#df_new['REGION'] = df_new['REGION'].replace({'LA1': 'LAN', 'LA2': 'LAS'})"
   ]
  },
  {
   "cell_type": "code",
   "execution_count": null,
   "metadata": {
    "colab": {
     "base_uri": "https://localhost:8080/",
     "height": 174
    },
    "id": "bU_tC3l1zdYm",
    "outputId": "7441d1f2-a259-49c3-ae23-51d913ff9c3d"
   },
   "outputs": [],
   "source": [
    "df_new.head()"
   ]
  },
  {
   "cell_type": "code",
   "execution_count": null,
   "metadata": {
    "id": "zQExHMEl68Oe"
   },
   "outputs": [],
   "source": [
    "df_new[['RANKED_WIN_RATIO_2022', 'RANKED_WIN_RATIO_2023']] = df_new.apply(get_win_loss_ratios, axis=1)"
   ]
  },
  {
   "cell_type": "code",
   "execution_count": null,
   "metadata": {
    "id": "n3cK4fAnr_QZ"
   },
   "outputs": [],
   "source": [
    "df_new[['RANKED_AVG_MATCH_DURATION_2022', 'RANKED_AVG_MATCH_DURATION_2023']] = df_new.apply(get_avg_game_duration, axis=1)"
   ]
  },
  {
   "cell_type": "code",
   "execution_count": null,
   "metadata": {
    "id": "7zMrTBer68Of"
   },
   "outputs": [],
   "source": [
    "df_new[['2021_400_COUNT', '2022_400_COUNT', '2023_400_COUNT',\n",
    "    '2021_430_COUNT', '2022_430_COUNT', '2023_430_COUNT',\n",
    "    '2021_440_COUNT', '2022_440_COUNT', '2023_440_COUNT',\n",
    "    '2021_450_COUNT', '2022_450_COUNT', '2023_450_COUNT']] = df_new.apply(get_match_counts, axis=1)"
   ]
  },
  {
   "cell_type": "code",
   "execution_count": null,
   "metadata": {
    "id": "DXMJ3LlS769R"
   },
   "outputs": [],
   "source": [
    "df_new[['most_played_champ_2022','most_played_champ_2023']] = df_new.apply(get_most_played_champion, axis=1)"
   ]
  },
  {
   "cell_type": "code",
   "execution_count": null,
   "metadata": {
    "id": "i0kzxDxxCc98"
   },
   "outputs": [],
   "source": [
    "df_new[['most_played_position_2022','most_played_position_2023']] = df_new.apply(get_most_played_position, axis=1)"
   ]
  },
  {
   "cell_type": "code",
   "execution_count": null,
   "metadata": {
    "id": "T_jfOWc_Nvce"
   },
   "outputs": [],
   "source": [
    "# KPI:\n",
    "df_new[['2023_avg_kpi', '2023_min_kpi', '2023_max_kpi', '2023_frustration_pct', '2023_frustration_ngames', '2023_ngames']] = df_new.apply(calculate_frustration_kpi, axis=1)"
   ]
  },
  {
   "cell_type": "code",
   "execution_count": null,
   "metadata": {
    "colab": {
     "base_uri": "https://localhost:8080/",
     "height": 261
    },
    "id": "ISppl4FX9Gio",
    "outputId": "4da841bb-fc94-4a7f-e7cc-aa23b666e362"
   },
   "outputs": [],
   "source": [
    "df_new.head()"
   ]
  },
  {
   "cell_type": "code",
   "execution_count": null,
   "metadata": {
    "id": "IhyXtYsE68Of"
   },
   "outputs": [],
   "source": [
    "file_path_to_extract = '' #insert the file path where you want to save the final file\n",
    "df_new.to_excel(file_path_to_extract)"
   ]
  }
 ],
 "metadata": {
  "colab": {
   "provenance": []
  },
  "kernelspec": {
   "display_name": "Python [jupyterlab]",
   "language": "python",
   "name": "Python [jupyterlab]"
  },
  "language_info": {
   "codemirror_mode": {
    "name": "ipython",
    "version": 3
   },
   "file_extension": ".py",
   "mimetype": "text/x-python",
   "name": "python",
   "nbconvert_exporter": "python",
   "pygments_lexer": "ipython3",
   "version": "3.10.9"
  }
 },
 "nbformat": 4,
 "nbformat_minor": 4
}
